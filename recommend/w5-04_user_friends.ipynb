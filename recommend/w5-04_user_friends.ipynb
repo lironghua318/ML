{
 "cells": [
  {
   "cell_type": "markdown",
   "metadata": {},
   "source": [
    "**处理用户好友数据**"
   ]
  },
  {
   "cell_type": "code",
   "execution_count": 1,
   "metadata": {},
   "outputs": [],
   "source": [
    "import pandas as pd\n",
    "\n",
    "import numpy as np\n",
    "import scipy.sparse as ss\n",
    "import scipy.io as sio\n",
    "\n",
    "#保存数据\n",
    "import pickle\n",
    "\n",
    "from sklearn.preprocessing import normalize"
   ]
  },
  {
   "cell_type": "code",
   "execution_count": 3,
   "metadata": {},
   "outputs": [
    {
     "name": "stdout",
     "output_type": "stream",
     "text": [
      "number of users in train & test :3391\n"
     ]
    }
   ],
   "source": [
    "#读取训练集和测试集中出现过的事件列表\n",
    "userIndex = pickle.load(open(\"PE_userIndex.pkl\", 'rb'))\n",
    "n_users = len(userIndex)\n",
    "\n",
    "print(\"number of users in train & test :%d\" % n_users)"
   ]
  },
  {
   "cell_type": "code",
   "execution_count": 5,
   "metadata": {},
   "outputs": [],
   "source": [
    "#用户-事件关系矩阵\n",
    "userEventScores = sio.mmread(\"PE_userEventScores\")\n",
    "\n",
    "#后续用于将用户朋友参加的活动影响到用户\n",
    "eventsForUser = pickle.load(open(\"PE_eventsForUser.pkl\", 'rb'))"
   ]
  },
  {
   "cell_type": "code",
   "execution_count": 8,
   "metadata": {},
   "outputs": [],
   "source": [
    "#读取数据\n",
    "\n",
    "\"\"\"\n",
    "  找出某用户的那些朋友\n",
    "  1)如果你有更多的朋友，可能你性格外向，更容易参加各种活动\n",
    "  2)如果你朋友会参加某个活动，可能你也会跟随去参加一下\n",
    "\"\"\"\n",
    " \n",
    "#用户有多少个朋友\n",
    "numFriends = np.zeros((n_users))\n",
    "userFriends = ss.dok_matrix((n_users, n_users))\n",
    "user_friends_dpath = \"C:/Users/Lzg/Desktop/data/w4/user_friends.csv\"    \n",
    "fin = open(user_friends_dpath, 'rb')\n",
    "#字段：user，friends\n",
    "fin.readline()                # skip header\n",
    "\n",
    "#ln = 0\n",
    "for line in fin:  #对每个用户        \n",
    "    cols = line.decode().strip().split(\",\")\n",
    "    user = str(cols[0])    #user\n",
    "    \n",
    "    if  user in userIndex :   #该用户在训练集和测试集的用户列表中\n",
    "        friends = cols[1].split(\" \")  #friends\n",
    "        i = userIndex[user]       #该用户的索引\n",
    "        numFriends[i] = len(friends)\n",
    "        for friend in friends:  #该用户的每个朋友\n",
    "            str_friend = str(friend)\n",
    "            if  str_friend in userIndex:  #如果朋友也在训练集或测试集中出现\n",
    "                j = userIndex[str_friend]   #朋友的索引\n",
    "            \n",
    "                # the objective of this score is to infer the degree to\n",
    "                # and direction in which this friend will influence the\n",
    "                # user's decision, so we sum the user/event score for\n",
    "                # this user across all training events.\n",
    "            \n",
    "                #userEventScores为用户对活动的打分（interested - not interseted）\n",
    "                #在Users-Events.ipynb中计算好了\n",
    "                eventsForUser = userEventScores.getrow(j).todense()\n",
    "            \n",
    "                #所有朋友参加活动的数量（平均频率）\n",
    "                score = eventsForUser.sum() / np.shape(eventsForUser)[1]\n",
    "                userFriends[i, j] += score\n",
    "                userFriends[j, i] += score\n",
    "            \n",
    "fin.close()\n",
    "    \n",
    "\n",
    "#用户的朋友数目\n",
    "# 归一化数组\n",
    "sumNumFriends = numFriends.sum(axis=0)\n",
    "numFriends = numFriends / sumNumFriends\n",
    "sio.mmwrite(\"UF_numFriends\", np.matrix(numFriends))\n",
    "\n",
    "#\n",
    "userFriends = normalize(userFriends, norm=\"l2\", axis=0, copy=False)\n",
    "sio.mmwrite(\"UF_userFriends\", userFriends)"
   ]
  },
  {
   "cell_type": "code",
   "execution_count": 9,
   "metadata": {},
   "outputs": [
    {
     "data": {
      "text/plain": [
       "array([1.33462794e-04, 1.23332486e-03, 2.14398063e-04, ...,\n",
       "       7.50393219e-05, 1.42038717e-04, 6.40514212e-05])"
      ]
     },
     "execution_count": 9,
     "metadata": {},
     "output_type": "execute_result"
    }
   ],
   "source": [
    "numFriends"
   ]
  },
  {
   "cell_type": "code",
   "execution_count": null,
   "metadata": {},
   "outputs": [],
   "source": []
  }
 ],
 "metadata": {
  "kernelspec": {
   "display_name": "Python 3",
   "language": "python",
   "name": "python3"
  },
  "language_info": {
   "codemirror_mode": {
    "name": "ipython",
    "version": 3
   },
   "file_extension": ".py",
   "mimetype": "text/x-python",
   "name": "python",
   "nbconvert_exporter": "python",
   "pygments_lexer": "ipython3",
   "version": "3.6.4"
  }
 },
 "nbformat": 4,
 "nbformat_minor": 2
}
